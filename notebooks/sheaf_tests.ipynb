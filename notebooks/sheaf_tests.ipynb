{
 "cells": [
  {
   "cell_type": "code",
   "execution_count": 3,
   "id": "7b6e3ec6-2524-4009-a0a7-1e67dbc301af",
   "metadata": {},
   "outputs": [],
   "source": [
    "import numpy as np\n",
    "import networkx as nx\n",
    "import itertools\n",
    "\n",
    "from scipy import linalg"
   ]
  },
  {
   "cell_type": "markdown",
   "id": "c7d812d9-fbc9-4b79-8d68-a69fe9052f40",
   "metadata": {},
   "source": [
    "### The sheaf Laplacian"
   ]
  },
  {
   "cell_type": "code",
   "execution_count": 4,
   "id": "100dfc8c-0018-4e0a-bb4c-41632f873a64",
   "metadata": {},
   "outputs": [
    {
     "name": "stderr",
     "output_type": "stream",
     "text": [
      "Matplotlib is building the font cache; this may take a moment.\n"
     ]
    },
    {
     "data": {
      "image/png": "[encoded data removed]",
      "text/plain": [
       "<Figure size 432x288 with 1 Axes>"
      ]
     },
     "metadata": {},
     "output_type": "display_data"
    }
   ],
   "source": [
    "# graph = nx.graph_atlas(13)\n",
    "graph = nx.graph_atlas(1004)\n",
    "nx.draw(graph)"
   ]
  },
  {
   "cell_type": "code",
   "execution_count": 5,
   "id": "97c2d927-34a2-4729-9c91-68037f56482f",
   "metadata": {},
   "outputs": [],
   "source": [
    "B_T = nx.incidence_matrix(graph, oriented=True).toarray().T\n",
    "\n",
    "E, N = B_T.shape\n",
    "K = 3  # The dimensionality of the vector spaces. \n",
    "one_matrix = np.ones((K, K))\n",
    "B_T_block = np.kron(B_T, one_matrix)\n",
    "\n",
    "Delta_base = np.random.uniform(low=-1.0, high=1.0, size=(E * K, N * K))\n",
    "Delta = B_T_block * Delta_base\n",
    "L = Delta.T @ Delta"
   ]
  },
  {
   "cell_type": "code",
   "execution_count": 6,
   "id": "c8e664b3-e7a4-43b9-b277-51044f3b0a39",
   "metadata": {},
   "outputs": [],
   "source": [
    "# Check the Sheaf Laplacian has the right shape\n",
    "assert L.shape == (N*K, N*K)\n",
    "\n",
    "# Check the matrix is semi-positive definite\n",
    "assert np.array_equal(L, L.T)\n",
    "assert np.all(np.linalg.eigvalsh(L) > -1e-13)"
   ]
  },
  {
   "cell_type": "code",
   "execution_count": 7,
   "id": "4fb10932-83b4-4c17-a2d5-3f333b499576",
   "metadata": {},
   "outputs": [],
   "source": [
    "I = np.identity(N)\n",
    "D_ones = np.kron(I, one_matrix)\n",
    "D = L * D_ones\n",
    "D_inv = linalg.fractional_matrix_power(D, -0.5)\n",
    "nL = D_inv @ L @ D_inv"
   ]
  },
  {
   "cell_type": "code",
   "execution_count": 8,
   "id": "67b1629d-20f0-4ca9-9806-1bdcf5103ab3",
   "metadata": {},
   "outputs": [],
   "source": [
    "# Check the Sheaf Laplacian has the right shape\n",
    "assert L.shape == (N*K, N*K)\n",
    "\n",
    "# Check the matrix is semi-positive definite\n",
    "assert np.max(np.abs(nL - nL.T)) < 1e-10\n",
    "assert np.all(np.linalg.eigvalsh(nL) > -1e-13)\n",
    "\n",
    "# Check the maximum eigenvalue is two\n",
    "assert np.all(np.linalg.eigvalsh(nL) < (2.0 + 1e-13))"
   ]
  },
  {
   "cell_type": "markdown",
   "id": "d44537f4-21b8-431b-9364-2953f22d601d",
   "metadata": {},
   "source": [
    "### The Dirichlet Energy"
   ]
  },
  {
   "cell_type": "code",
   "execution_count": 9,
   "id": "47d181ab-6f60-4207-ad24-568b679cc156",
   "metadata": {},
   "outputs": [],
   "source": [
    "# Define a signal on the zero-th cochain\n",
    "f = np.random.uniform(low=-1.0, high=1.0, size=(N * K, ))"
   ]
  },
  {
   "cell_type": "code",
   "execution_count": 10,
   "id": "8a2f41a3-2cb9-4079-a2e7-97c5a387c357",
   "metadata": {},
   "outputs": [
    {
     "name": "stdout",
     "output_type": "stream",
     "text": [
      "9.254443951036462\n"
     ]
    }
   ],
   "source": [
    "energy = f.T @ nL @ f\n",
    "print(energy)"
   ]
  },
  {
   "cell_type": "code",
   "execution_count": 11,
   "id": "1bef5ca7-6a7f-4999-afdd-b767c92ea022",
   "metadata": {},
   "outputs": [],
   "source": [
    "def get_edge(i, j):\n",
    "    for e in range(E):\n",
    "        if B_T[e, i] * B_T[e, j] != 0:\n",
    "            return e\n",
    "    assert not graph.has_edge(i, j)\n",
    "    assert not graph.has_edge(j, i)\n",
    "    return None"
   ]
  },
  {
   "cell_type": "code",
   "execution_count": 12,
   "id": "f9c95df6-d9a0-4a8f-b697-c5fdddfbcd22",
   "metadata": {},
   "outputs": [
    {
     "name": "stdout",
     "output_type": "stream",
     "text": [
      "9.254443951036459\n"
     ]
    }
   ],
   "source": [
    "# Compute energy using the alternative method\n",
    "energy_alt = 0\n",
    "for i, j in itertools.combinations(range(N), 2):\n",
    "    f_i = f[i*K:(i+1)*K]\n",
    "    f_j = f[j*K:(j+1)*K]\n",
    "    D_inv_i = D_inv[i*K:(i+1)*K, i*K:(i+1)*K]\n",
    "    D_inv_j = D_inv[j*K:(j+1)*K, j*K:(j+1)*K]\n",
    "    \n",
    "    e = get_edge(i, j) \n",
    "    if e is None:\n",
    "        continue\n",
    "    F_i = Delta_base[e*K:(e+1)*K, i*K:(i+1)*K]\n",
    "    F_j = Delta_base[e*K:(e+1)*K, j*K:(j+1)*K]\n",
    "    \n",
    "    A = F_i @ D_inv_i\n",
    "    B = F_j @ D_inv_j\n",
    "    \n",
    "    diff = (A @ f_i) - (B @ f_j)\n",
    "    norm_sq = np.linalg.norm(diff)**2\n",
    "    energy_alt += norm_sq\n",
    "print(energy_alt)"
   ]
  },
  {
   "cell_type": "code",
   "execution_count": 13,
   "id": "8e8472ee-8618-4fd1-8747-9d1f79a5a49b",
   "metadata": {},
   "outputs": [],
   "source": [
    "assert np.abs(energy - energy_alt) < 1e-14"
   ]
  },
  {
   "cell_type": "code",
   "execution_count": null,
   "id": "f5760604-585a-4fb1-8755-c1a7001837ad",
   "metadata": {},
   "outputs": [],
   "source": []
  }
 ],
 "metadata": {
  "kernelspec": {
   "display_name": "Python 3 (ipykernel)",
   "language": "python",
   "name": "python3"
  },
  "language_info": {
   "codemirror_mode": {
    "name": "ipython",
    "version": 3
   },
   "file_extension": ".py",
   "mimetype": "text/x-python",
   "name": "python",
   "nbconvert_exporter": "python",
   "pygments_lexer": "ipython3",
   "version": "3.9.7"
  }
 },
 "nbformat": 4,
 "nbformat_minor": 5
}
