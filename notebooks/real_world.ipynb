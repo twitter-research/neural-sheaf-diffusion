{
 "cells": [
  {
   "cell_type": "code",
   "execution_count": 8,
   "id": "feab2780-0ee1-4ae4-8d3b-a7959b31f07b",
   "metadata": {},
   "outputs": [
    {
     "name": "stdout",
     "output_type": "stream",
     "text": [
      "Device: cuda\n"
     ]
    }
   ],
   "source": [
    "import sys\n",
    "sys.path.append('../')\n",
    "\n",
    "import numpy as np\n",
    "import networkx as nx\n",
    "import itertools\n",
    "import torch\n",
    "\n",
    "import torch.nn.functional as F\n",
    "import torch_sparse\n",
    "import random \n",
    "import matplotlib.pyplot as plt\n",
    "\n",
    "\n",
    "from torch import nn\n",
    "from models.difussion_models import GraphLaplacianDiffusion, DiagSheafDiffusion, MultiDimSheafDiffusion, DiscreteMultiDimSheafDiffusion\n",
    "from lib.laplace import build_norm_sheaf_laplacian, remove_duplicate_edges, build_sheaf_difussion_matrix, dirichlet_energy\n",
    "from torch_geometric.nn.dense.linear import Linear\n",
    "from scipy import linalg\n",
    "from torch_geometric.utils import to_dense_adj, from_networkx, degree\n",
    "from torch_geometric.nn.conv import GCNConv\n",
    "from data.heterophilic import get_dataset, generate_random_splits\n",
    "\n",
    "device = torch.device('cuda' if torch.cuda.is_available() else 'cpu')\n",
    "torch.set_default_dtype(torch.float32)\n",
    "print(\"Device:\", device)"
   ]
  },
  {
   "cell_type": "markdown",
   "id": "d54e46e7-343b-4a49-832e-2ff0f90d0a7c",
   "metadata": {},
   "source": [
    "#### Initialise heterophilic dataset"
   ]
  },
  {
   "cell_type": "code",
   "execution_count": 9,
   "id": "3c3a7878-df04-4585-bf87-226ba04f7311",
   "metadata": {},
   "outputs": [
    {
     "name": "stdout",
     "output_type": "stream",
     "text": [
      "Nodes: torch.Size([183, 1703])\n",
      "Edges: 558\n",
      "Self loops: 0\n",
      "Counts (array([0, 1, 2, 3, 4]), array([ 33,   1,  18, 101,  30]))\n",
      "Max deg 104.0\n",
      "Min deg 1.0\n"
     ]
    }
   ],
   "source": [
    "dataset_name = 'texas'\n",
    "# dataset_name = 'wisconsin'\n",
    "# dataset_name = 'cornell'\n",
    "# dataset_name = 'squirrel'\n",
    "# dataset_name = 'chameleon'\n",
    "\n",
    "\n",
    "dataset = get_dataset(dataset_name)\n",
    "\n",
    "data = dataset[0]\n",
    "print(\"Nodes:\", data.x.size())\n",
    "print(\"Edges:\", data.edge_index.size(1))\n",
    "print(\"Self loops:\", (data.edge_index[0] == data.edge_index[1]).sum().item())\n",
    "counts = np.unique(data.y, return_counts=True)\n",
    "print(\"Counts\", counts)\n",
    "print(\"Max deg\", degree(data.edge_index[0]).max().item())\n",
    "print(\"Min deg\", degree(data.edge_index[0]).min().item())"
   ]
  },
  {
   "cell_type": "code",
   "execution_count": 10,
   "id": "417d1f98-a2fd-4540-be8d-2e17f6ca3e1e",
   "metadata": {},
   "outputs": [],
   "source": [
    "def eval_model(model, data, mask):\n",
    "    model.eval()\n",
    "    with torch.no_grad():\n",
    "        out = model(data.x)\n",
    "        pred = out.argmax(dim=1)\n",
    "        correct = (pred[mask] == data.y[mask]).sum()\n",
    "        acc = int(correct) / int(mask.sum())\n",
    "        loss = F.nll_loss(out[mask], data.y[mask]).item()\n",
    "        return acc, loss"
   ]
  },
  {
   "cell_type": "code",
   "execution_count": 11,
   "id": "afd19aaa-c789-4e5a-b0bd-6640ca041a33",
   "metadata": {},
   "outputs": [],
   "source": [
    "def get_fixed_splits(data, dataset_name, seed):\n",
    "    split = np.load(f'../splits/{dataset_name}_split_0.6_0.2_{seed}.npz')\n",
    "    \n",
    "    data.train_mask = torch.tensor(split['train_mask'], dtype=torch.bool)\n",
    "    data.val_mask = torch.tensor(split['val_mask'], dtype=torch.bool)\n",
    "    data.test_mask = torch.tensor(split['test_mask'], dtype=torch.bool)\n",
    "    \n",
    "    assert torch.count_nonzero(data.train_mask + data.val_mask + data.test_mask) == data.x.size(0)\n",
    "    \n",
    "    split.close()\n",
    "    \n",
    "    return data"
   ]
  },
  {
   "cell_type": "code",
   "execution_count": 5,
   "id": "0a70c161-f34a-4838-9691-179d01d866e5",
   "metadata": {},
   "outputs": [
    {
     "name": "stdout",
     "output_type": "stream",
     "text": [
      "lin1.weight torch.Size([33, 2325])\n",
      "lin1.bias torch.Size([33])\n",
      "sheaf_learners.0.map_builder.weight torch.Size([3, 66])\n",
      "lin2.weight torch.Size([5, 33])\n",
      "lin2.bias torch.Size([5])\n"
     ]
    }
   ],
   "source": [
    "# model = MultiDimSheafDiffusion(data.x.size(0), data.edge_index, 2, 0.1, data.x.size(1), hidden_dim=32, \n",
    "#                                    output_dim=dataset.num_classes, normalised=False, augmented=False, att_dim=10, dropout=0.0) \n",
    "\n",
    "model = DiscreteMultiDimSheafDiffusion(data.x.size(0), data.edge_index, 3, 2, data.x.size(1), hidden_dim=33, \n",
    "                                   output_dim=dataset.num_classes, normalised=False, augmented=False, nonlinear=False, att_dim=32, deg_normalised=True, dropout=0.0)\n",
    "for name, param in model.named_parameters():\n",
    "    if param.requires_grad:\n",
    "        print(name, param.size())"
   ]
  },
  {
   "cell_type": "markdown",
   "id": "51c80345-4690-444f-ab8e-8e49c84d13df",
   "metadata": {},
   "source": [
    "### Training with fixed time"
   ]
  },
  {
   "cell_type": "code",
   "execution_count": null,
   "id": "af8a413d-62bb-4c67-8320-d49461df5f41",
   "metadata": {},
   "outputs": [
    {
     "name": "stdout",
     "output_type": "stream",
     "text": [
      "===== Seed 0 ======\n",
      "Epoch: 100 | Loss: 0.10687236487865448\n",
      "Epoch: 200 | Loss: 0.10275166481733322\n",
      "Train acc: 1.0\n",
      "Val acc: 0.7627118644067796\n",
      "Test acc: 0.7837837837837838\n",
      "Best test acc: 0.7837837837837838\n",
      "Best epoch: 87\n",
      "===== Seed 1 ======\n",
      "Epoch: 100 | Loss: 0.10657243430614471\n",
      "Epoch: 200 | Loss: 0.07840995490550995\n",
      "Train acc: 1.0\n",
      "Val acc: 0.7796610169491526\n",
      "Test acc: 0.8918918918918919\n",
      "Best test acc: 0.918918918918919\n",
      "Best epoch: 91\n",
      "===== Seed 2 ======\n",
      "Epoch: 100 | Loss: 0.08386233448982239\n",
      "Epoch: 200 | Loss: 0.09970902651548386\n",
      "Train acc: 1.0\n",
      "Val acc: 0.7966101694915254\n",
      "Test acc: 0.7297297297297297\n",
      "Best test acc: 0.7297297297297297\n",
      "Best epoch: 46\n",
      "===== Seed 3 ======\n",
      "Epoch: 100 | Loss: 0.18335121870040894\n",
      "Epoch: 200 | Loss: 0.06836207956075668\n",
      "Train acc: 1.0\n",
      "Val acc: 0.8135593220338984\n",
      "Test acc: 0.8108108108108109\n",
      "Best test acc: 0.8648648648648649\n",
      "Best epoch: 61\n",
      "===== Seed 4 ======\n",
      "Epoch: 100 | Loss: 0.10896273702383041\n",
      "Epoch: 200 | Loss: 0.08449429273605347\n",
      "Train acc: 1.0\n",
      "Val acc: 0.864406779661017\n",
      "Test acc: 0.8108108108108109\n",
      "Best test acc: 0.8378378378378378\n",
      "Best epoch: 79\n",
      "===== Seed 5 ======\n",
      "Epoch: 100 | Loss: 0.11552506685256958\n",
      "Epoch: 200 | Loss: 0.09450509399175644\n",
      "Train acc: 1.0\n",
      "Val acc: 0.8135593220338984\n",
      "Test acc: 0.8108108108108109\n",
      "Best test acc: 0.8378378378378378\n",
      "Best epoch: 49\n",
      "===== Seed 6 ======\n"
     ]
    }
   ],
   "source": [
    "seeds = 10\n",
    "time = 0.0\n",
    "patience = 200\n",
    "epochs = 250\n",
    "\n",
    "train_accs = []\n",
    "test_accs = []\n",
    "best_test_accs = []\n",
    "\n",
    "for seed in range(0, seeds):\n",
    "    print(f\"===== Seed {seed} ======\")\n",
    "    dataset = get_dataset(dataset_name)\n",
    "    data = get_fixed_splits(dataset[0], dataset_name, seed).to(device)    \n",
    "\n",
    "    # model = DiagSheafDiffusion(data.x.size(0), data.edge_index, 5, time, data.x.size(1), hidden_dim=70, \n",
    "    #                            output_dim=dataset.num_classes, normalised=False, nonlinear=False, deg_normalised=True, dropout=0.5) \n",
    "    # model = MultiDimSheafDiffusion(data.x.size(0), data.edge_index, 2, time, data.x.size(1), hidden_dim=32, \n",
    "    #                                output_dim=dataset.num_classes, normalised=False, augmented=False, att_dim=32, dropout=0.0, nonlinear=True, deg_normalised=True) \n",
    "    model = DiscreteMultiDimSheafDiffusion(data.x.size(0), data.edge_index, 12, 3, data.x.size(1), hidden_dim=120, \n",
    "                                   output_dim=dataset.num_classes, normalised=False, augmented=False, nonlinear=True, att_dim=32, deg_normalised=True, dropout=0.7, \n",
    "                                   use_weights=False, act=False, bn=False) \n",
    "    model.to(device)\n",
    "\n",
    "    optimizer = torch.optim.Adam(model.parameters(), lr=0.05, weight_decay=5e-4)\n",
    "    # optimizer = torch.optim.RMSprop(model.parameters(), lr=0.01, weight_decay=1e-4)\n",
    "\n",
    "    old_val_acc = 0\n",
    "    patience_counter = 0\n",
    "    best_test_acc = 0\n",
    "    best_epoch = 0\n",
    "    \n",
    "    scheduler = torch.optim.lr_scheduler.StepLR(optimizer, step_size=100, gamma=0.5)\n",
    "    \n",
    "    for epoch in range(epochs + 1):\n",
    "        model.train()\n",
    "        optimizer.zero_grad()\n",
    "        out = model(data.x)\n",
    "        \n",
    "        loss = F.nll_loss(out[data.train_mask], data.y[data.train_mask])\n",
    "        loss.backward()\n",
    "        optimizer.step()\n",
    "        scheduler.step()\n",
    "        \n",
    "#         if epoch % 200 == 0:\n",
    "#             print(\"Debug\")\n",
    "#             print(\"Max\", model.L.max().item())\n",
    "#             print(\"Min\", model.L.min().item())\n",
    "\n",
    "#             print(\"Avg\", model.laplacian_builder.L[1].abs().mean().item())\n",
    "\n",
    "\n",
    "            # assert model.odefunc.sheaf_learner.map_builder.weight.grad is not None\n",
    "            # assert model.odefunc.sheaf_learner.linear2.weight.grad is not None\n",
    "\n",
    "            # print(\"Grad\", model.odefunc.sheaf_learner.map_builder.weight.grad.abs().mean())\n",
    "            # print(\"Max:\", model.odefunc.L[1].abs().max())\n",
    "            # print(\"Mean:\", model.odefunc.L[1].abs().mean())\n",
    "        \n",
    "        val_acc, _ = eval_model(model, data, data.val_mask)\n",
    "        if val_acc > old_val_acc:\n",
    "            old_val_acc = val_acc\n",
    "            best_test_acc, _ = eval_model(model, data, data.test_mask)\n",
    "            best_epoch = epoch\n",
    "            patience_counter = 0\n",
    "        else:\n",
    "            patience_counter += 1 \n",
    "            if patience_counter >= patience:\n",
    "                break\n",
    "\n",
    "        \n",
    "        if epoch % 100 == 0 and epoch > 0:\n",
    "            print(f\"Epoch: {epoch} | Loss: {loss.item()}\")\n",
    "    \n",
    "    train_acc, _ = eval_model(model, data, data.train_mask)\n",
    "    val_acc, _ = eval_model(model, data, data.val_mask)\n",
    "    test_acc, _ = eval_model(model, data, data.test_mask)\n",
    "    \n",
    "    print(f\"Train acc: {train_acc}\")\n",
    "    print(f\"Val acc: {val_acc}\")\n",
    "    print(f\"Test acc: {test_acc}\")\n",
    "    print(f\"Best test acc: {best_test_acc}\")\n",
    "    print(f\"Best epoch: {best_epoch}\")\n",
    "    \n",
    "    train_accs.append(train_acc)\n",
    "    test_accs.append(test_acc)\n",
    "    best_test_accs.append(best_test_acc)"
   ]
  },
  {
   "cell_type": "code",
   "execution_count": 50,
   "id": "310de329-d060-4349-88d0-80fc8e26d2c0",
   "metadata": {},
   "outputs": [
    {
     "name": "stdout",
     "output_type": "stream",
     "text": [
      "======== texas ========\n",
      "Early stop acc: 0.8270 +/- 0.0422\n",
      "Best val acc  : 0.8000 +/- 0.0664\n"
     ]
    }
   ],
   "source": [
    "print(f\"======== {dataset_name} ========\")\n",
    "print(f\"Early stop acc: {np.mean(test_accs):.4f} +/- {np.std(test_accs):.4f}\")\n",
    "print(f\"Best val acc  : {np.mean(best_test_accs):.4f} +/- {np.std(best_test_accs):.4f}\")"
   ]
  },
  {
   "cell_type": "code",
   "execution_count": null,
   "id": "b889f76c-cc26-4ce9-b819-18b2e9af248b",
   "metadata": {},
   "outputs": [],
   "source": []
  },
  {
   "cell_type": "code",
   "execution_count": null,
   "id": "67f1b212-5d51-47d0-a8c5-3389b99cad15",
   "metadata": {},
   "outputs": [],
   "source": []
  }
 ],
 "metadata": {
  "kernelspec": {
   "display_name": "Python 3 (ipykernel)",
   "language": "python",
   "name": "python3"
  },
  "language_info": {
   "codemirror_mode": {
    "name": "ipython",
    "version": 3
   },
   "file_extension": ".py",
   "mimetype": "text/x-python",
   "name": "python",
   "nbconvert_exporter": "python",
   "pygments_lexer": "ipython3",
   "version": "3.9.7"
  }
 },
 "nbformat": 4,
 "nbformat_minor": 5
}
