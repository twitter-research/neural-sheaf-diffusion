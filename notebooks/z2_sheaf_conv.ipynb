{
 "cells": [
  {
   "cell_type": "code",
   "execution_count": 1,
   "id": "feab2780-0ee1-4ae4-8d3b-a7959b31f07b",
   "metadata": {},
   "outputs": [],
   "source": [
    "import sys\n",
    "sys.path.append('../')\n",
    "\n",
    "import numpy as np\n",
    "import networkx as nx\n",
    "import itertools\n",
    "import torch\n",
    "import torch.nn.functional as F\n",
    "import torch_sparse\n",
    "\n",
    "from torch import nn\n",
    "from models.convs import SheafConv, Z2SheafConv\n",
    "from lib.laplace import build_norm_sheaf_laplacian, remove_duplicate_edges, build_sheaf_difussion_matrix, dirichlet_energy\n",
    "from torch_geometric.nn.dense.linear import Linear\n",
    "from scipy import linalg\n",
    "from torch_geometric.utils import to_dense_adj, from_networkx\n",
    "from torch_geometric.nn.conv import GCNConv\n",
    "\n",
    "device = torch.device('cuda' if torch.cuda.is_available() else 'cpu')\n",
    "torch.set_default_dtype(torch.float64)"
   ]
  },
  {
   "cell_type": "code",
   "execution_count": 2,
   "id": "f31de5d2-50c1-482d-b820-8ef3f41529d8",
   "metadata": {},
   "outputs": [],
   "source": [
    "from torch_geometric.datasets import Planetoid\n",
    "\n",
    "dataset = Planetoid(root='/tmp/Cora', name='Cora')\n",
    "\n",
    "device = torch.device('cuda' if torch.cuda.is_available() else 'cpu')\n",
    "data = dataset[0].to(device)"
   ]
  },
  {
   "cell_type": "code",
   "execution_count": 3,
   "id": "d4a7add5-a7dd-477a-8764-2456979ce6d1",
   "metadata": {},
   "outputs": [],
   "source": [
    "class Z2SheafNet(torch.nn.Module):\n",
    "    def __init__(self, layers=2):\n",
    "        super().__init__()\n",
    "        self.layers = layers\n",
    "        self.linear = nn.Linear(dataset.num_node_features, 16)\n",
    "        \n",
    "        self.convs = nn.ModuleList()\n",
    "        for i in range(layers):\n",
    "            self.convs.append(Z2SheafConv(16, 16))\n",
    "        self.final = nn.Linear(16, dataset.num_classes)\n",
    "\n",
    "    def forward(self, data):\n",
    "        x, edge_index = data.x, data.edge_index\n",
    "        \n",
    "        x = F.dropout(x, training=self.training)\n",
    "        x = F.relu(self.linear(x))\n",
    "        x = F.dropout(x, training=self.training)\n",
    "        raw = x \n",
    "        \n",
    "        for i in range(self.layers):\n",
    "            x = self.convs[i](x, edge_index)\n",
    "            x = 0.1 * raw + x\n",
    "\n",
    "        x = self.final(x)\n",
    "        return F.log_softmax(x, dim=1)\n",
    "    \n",
    "    \n",
    "class GCN(torch.nn.Module):\n",
    "    def __init__(self, layers=2):\n",
    "        super().__init__()\n",
    "        self.layers = layers\n",
    "        self.linear = nn.Linear(dataset.num_node_features, 16)\n",
    "        \n",
    "        self.convs = nn.ModuleList()\n",
    "        for i in range(layers):\n",
    "            self.convs.append(GCNConv(16, 16))\n",
    "        self.final = nn.Linear(16, dataset.num_classes)\n",
    "\n",
    "    def forward(self, data):\n",
    "        x, edge_index = data.x, data.edge_index\n",
    "        \n",
    "        x = F.relu(self.linear(x))\n",
    "        x = F.dropout(x, training=self.training)\n",
    "        raw = x \n",
    "        \n",
    "        for i in range(self.layers):\n",
    "            x = F.relu(self.convs[i](x, edge_index))\n",
    "            x = raw + x\n",
    "        \n",
    "        x = self.final(x)\n",
    "        return F.log_softmax(x, dim=1)"
   ]
  },
  {
   "cell_type": "code",
   "execution_count": 8,
   "id": "83235edd-30fa-4b1e-a4f0-96545112e768",
   "metadata": {
    "tags": []
   },
   "outputs": [
    {
     "name": "stdout",
     "output_type": "stream",
     "text": [
      "Epoch: 0 | Loss: 1.9540689430955638\n",
      "Epoch: 10 | Loss: 1.833361298368214\n",
      "Epoch: 20 | Loss: 1.3535748969556007\n",
      "Epoch: 30 | Loss: 1.0140017449221617\n",
      "Epoch: 40 | Loss: 0.7277496079755661\n",
      "Epoch: 50 | Loss: 0.5964785909918624\n",
      "Epoch: 60 | Loss: 0.4002771864796739\n",
      "Epoch: 70 | Loss: 0.36511657592418806\n",
      "Epoch: 80 | Loss: 0.27248248233122785\n",
      "Epoch: 90 | Loss: 0.32955938588210065\n",
      "Epoch: 100 | Loss: 0.26374631539830484\n",
      "Epoch: 110 | Loss: 0.15276595453794034\n",
      "Epoch: 120 | Loss: 0.11843103081538953\n",
      "Epoch: 130 | Loss: 0.0837491472851068\n",
      "Epoch: 140 | Loss: 0.11864420132574112\n",
      "Epoch: 150 | Loss: 0.1044953118913567\n",
      "Epoch: 160 | Loss: 0.08820385205657091\n",
      "Epoch: 170 | Loss: 0.04280260304945667\n",
      "Epoch: 180 | Loss: 0.0950202715401205\n",
      "Epoch: 190 | Loss: 0.08070941190772443\n"
     ]
    }
   ],
   "source": [
    "model = Z2SheafNet(layers=4)\n",
    "# model = GCN(layers=10)\n",
    "optimizer = torch.optim.Adam(model.parameters(), lr=0.01, weight_decay=5e-4)\n",
    "\n",
    "model.train()\n",
    "for epoch in range(200):\n",
    "    optimizer.zero_grad()\n",
    "    out = model(data)\n",
    "    loss = F.nll_loss(out[data.train_mask], data.y[data.train_mask])\n",
    "    loss.backward()\n",
    "    optimizer.step()\n",
    "    \n",
    "    if epoch % 10 == 0:\n",
    "        print(f\"Epoch: {epoch} | Loss: {loss.item()}\")"
   ]
  },
  {
   "cell_type": "code",
   "execution_count": 7,
   "id": "32172a2d-fb3e-48b1-a5b5-1200d9d21f63",
   "metadata": {
    "tags": []
   },
   "outputs": [
    {
     "name": "stdout",
     "output_type": "stream",
     "text": [
      "Test Accuracy: 0.7370\n",
      "Train Accuracy: 1.0000\n"
     ]
    }
   ],
   "source": [
    "model.eval()\n",
    "pred = model(data).argmax(dim=1)\n",
    "correct = (pred[data.test_mask] == data.y[data.test_mask]).sum()\n",
    "acc = int(correct) / int(data.test_mask.sum())\n",
    "print('Test Accuracy: {:.4f}'.format(acc))\n",
    "correct = (pred[data.train_mask] == data.y[data.train_mask]).sum()\n",
    "acc = int(correct) / int(data.train_mask.sum())\n",
    "print('Train Accuracy: {:.4f}'.format(acc))"
   ]
  },
  {
   "cell_type": "code",
   "execution_count": null,
   "id": "2bebd3af-e75c-40a8-b028-3dc8b9fa5f8e",
   "metadata": {},
   "outputs": [],
   "source": []
  },
  {
   "cell_type": "code",
   "execution_count": null,
   "id": "e612ac53-1452-4b13-af11-e5e491d42050",
   "metadata": {
    "tags": []
   },
   "outputs": [],
   "source": []
  }
 ],
 "metadata": {
  "kernelspec": {
   "display_name": "Python 3 (ipykernel)",
   "language": "python",
   "name": "python3"
  },
  "language_info": {
   "codemirror_mode": {
    "name": "ipython",
    "version": 3
   },
   "file_extension": ".py",
   "mimetype": "text/x-python",
   "name": "python",
   "nbconvert_exporter": "python",
   "pygments_lexer": "ipython3",
   "version": "3.9.7"
  }
 },
 "nbformat": 4,
 "nbformat_minor": 5
}
