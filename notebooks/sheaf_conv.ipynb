{
 "cells": [
  {
   "cell_type": "code",
   "execution_count": 562,
   "id": "feab2780-0ee1-4ae4-8d3b-a7959b31f07b",
   "metadata": {},
   "outputs": [],
   "source": [
    "import sys\n",
    "sys.path.append('../')\n",
    "\n",
    "import numpy as np\n",
    "import networkx as nx\n",
    "import itertools\n",
    "import torch\n",
    "import torch.nn.functional as F\n",
    "import torch_sparse\n",
    "\n",
    "from models.convs import SheafConv\n",
    "from lib.laplace import build_norm_sheaf_laplacian, remove_duplicate_edges, build_sheaf_difussion_matrix, dirichlet_energy\n",
    "from torch_geometric.nn.dense.linear import Linear\n",
    "from scipy import linalg\n",
    "from torch_geometric.utils import to_dense_adj, from_networkx\n",
    "\n",
    "device = torch.device('cuda' if torch.cuda.is_available() else 'cpu')\n",
    "torch.set_default_dtype(torch.float64)"
   ]
  },
  {
   "cell_type": "code",
   "execution_count": 50,
   "id": "d4a7add5-a7dd-477a-8764-2456979ce6d1",
   "metadata": {},
   "outputs": [],
   "source": [
    "class RandomSheafCN(torch.nn.Module):\n",
    "    def __init__(self, N, K, edge_index, num_feat, num_classes):\n",
    "        super().__init__()\n",
    "        \n",
    "        E = edge_index.size(1)\n",
    "        maps = torch.DoubleTensor(size=(E, 1, K, K)).uniform_(-1.0, 1.0)\n",
    "        maps = torch.cat((maps, maps), dim=1)\n",
    "\n",
    "        # maps = torch.eye(K).view(1, 1, K, K).tile(E, 2, 1, 1)\n",
    "        assert list(maps.size()) == [E, 2, K, K]\n",
    "        P, L = build_sheaf_difussion_matrix(N, K, edge_index, maps, augmented=True, return_laplacian=True)\n",
    "        print(K)\n",
    "        \n",
    "        self.N = N\n",
    "        C = 16\n",
    "        use_B = True\n",
    "        self.conv1 = SheafConv(L, P, K, in_feat=num_feat, out_feat=C, use_B=use_B)\n",
    "        self.conv2 = SheafConv(L, P, K, in_feat=C, out_feat=C, use_B=use_B)\n",
    "        self.linear = Linear(K*C, num_classes)\n",
    "\n",
    "    def forward(self, data):\n",
    "        x = data.x\n",
    "\n",
    "        x = self.conv1(x)\n",
    "        x = F.relu(x)\n",
    "        x = F.dropout(x, training=self.training)\n",
    "        x = self.conv2(x)\n",
    "        # x = F.relu(x)\n",
    "        \n",
    "        x = x.view(self.N, -1)\n",
    "        x = self.linear(x)\n",
    "\n",
    "        return F.log_softmax(x, dim=1)"
   ]
  },
  {
   "cell_type": "code",
   "execution_count": 51,
   "id": "f31de5d2-50c1-482d-b820-8ef3f41529d8",
   "metadata": {},
   "outputs": [],
   "source": [
    "from torch_geometric.datasets import Planetoid\n",
    "\n",
    "dataset = Planetoid(root='/tmp/Cora', name='Cora')\n",
    "\n",
    "device = torch.device('cuda' if torch.cuda.is_available() else 'cpu')\n",
    "data = dataset[0].to(device)\n",
    "N = data.x.size(0)\n",
    "K = 4\n",
    "C = data.x.size(1)\n",
    "data.x = data.x.t().reshape(C, N, 1).tile(1, 1, K).reshape(C, N*K).t()"
   ]
  },
  {
   "cell_type": "code",
   "execution_count": 52,
   "id": "83235edd-30fa-4b1e-a4f0-96545112e768",
   "metadata": {},
   "outputs": [
    {
     "name": "stdout",
     "output_type": "stream",
     "text": [
      "Removed 5278 edges\n",
      "4\n"
     ]
    },
    {
     "ename": "TypeError",
     "evalue": "reshape(): argument 'shape' must be tuple of ints, but found element of type Tensor at pos 1",
     "output_type": "error",
     "traceback": [
      "\u001b[0;31m---------------------------------------------------------------------------\u001b[0m",
      "\u001b[0;31mTypeError\u001b[0m                                 Traceback (most recent call last)",
      "\u001b[0;32m/var/folders/1q/lwd2z3n96nz2tpc_3h028df40000gr/T/ipykernel_10479/353053837.py\u001b[0m in \u001b[0;36m<module>\u001b[0;34m\u001b[0m\n\u001b[1;32m      6\u001b[0m \u001b[0;32mfor\u001b[0m \u001b[0mepoch\u001b[0m \u001b[0;32min\u001b[0m \u001b[0mrange\u001b[0m\u001b[0;34m(\u001b[0m\u001b[0;36m200\u001b[0m\u001b[0;34m)\u001b[0m\u001b[0;34m:\u001b[0m\u001b[0;34m\u001b[0m\u001b[0;34m\u001b[0m\u001b[0m\n\u001b[1;32m      7\u001b[0m     \u001b[0moptimizer\u001b[0m\u001b[0;34m.\u001b[0m\u001b[0mzero_grad\u001b[0m\u001b[0;34m(\u001b[0m\u001b[0;34m)\u001b[0m\u001b[0;34m\u001b[0m\u001b[0;34m\u001b[0m\u001b[0m\n\u001b[0;32m----> 8\u001b[0;31m     \u001b[0mout\u001b[0m \u001b[0;34m=\u001b[0m \u001b[0mmodel\u001b[0m\u001b[0;34m(\u001b[0m\u001b[0mdata\u001b[0m\u001b[0;34m)\u001b[0m\u001b[0;34m\u001b[0m\u001b[0;34m\u001b[0m\u001b[0m\n\u001b[0m\u001b[1;32m      9\u001b[0m     \u001b[0mloss\u001b[0m \u001b[0;34m=\u001b[0m \u001b[0mF\u001b[0m\u001b[0;34m.\u001b[0m\u001b[0mnll_loss\u001b[0m\u001b[0;34m(\u001b[0m\u001b[0mout\u001b[0m\u001b[0;34m[\u001b[0m\u001b[0mdata\u001b[0m\u001b[0;34m.\u001b[0m\u001b[0mtrain_mask\u001b[0m\u001b[0;34m]\u001b[0m\u001b[0;34m,\u001b[0m \u001b[0mdata\u001b[0m\u001b[0;34m.\u001b[0m\u001b[0my\u001b[0m\u001b[0;34m[\u001b[0m\u001b[0mdata\u001b[0m\u001b[0;34m.\u001b[0m\u001b[0mtrain_mask\u001b[0m\u001b[0;34m]\u001b[0m\u001b[0;34m)\u001b[0m\u001b[0;34m\u001b[0m\u001b[0;34m\u001b[0m\u001b[0m\n\u001b[1;32m     10\u001b[0m     \u001b[0mloss\u001b[0m\u001b[0;34m.\u001b[0m\u001b[0mbackward\u001b[0m\u001b[0;34m(\u001b[0m\u001b[0;34m)\u001b[0m\u001b[0;34m\u001b[0m\u001b[0;34m\u001b[0m\u001b[0m\n",
      "\u001b[0;32m/opt/miniconda3/envs/sheaf/lib/python3.9/site-packages/torch/nn/modules/module.py\u001b[0m in \u001b[0;36m_call_impl\u001b[0;34m(self, *input, **kwargs)\u001b[0m\n\u001b[1;32m   1049\u001b[0m         if not (self._backward_hooks or self._forward_hooks or self._forward_pre_hooks or _global_backward_hooks\n\u001b[1;32m   1050\u001b[0m                 or _global_forward_hooks or _global_forward_pre_hooks):\n\u001b[0;32m-> 1051\u001b[0;31m             \u001b[0;32mreturn\u001b[0m \u001b[0mforward_call\u001b[0m\u001b[0;34m(\u001b[0m\u001b[0;34m*\u001b[0m\u001b[0minput\u001b[0m\u001b[0;34m,\u001b[0m \u001b[0;34m**\u001b[0m\u001b[0mkwargs\u001b[0m\u001b[0;34m)\u001b[0m\u001b[0;34m\u001b[0m\u001b[0;34m\u001b[0m\u001b[0m\n\u001b[0m\u001b[1;32m   1052\u001b[0m         \u001b[0;31m# Do not call functions when jit is used\u001b[0m\u001b[0;34m\u001b[0m\u001b[0;34m\u001b[0m\u001b[0m\n\u001b[1;32m   1053\u001b[0m         \u001b[0mfull_backward_hooks\u001b[0m\u001b[0;34m,\u001b[0m \u001b[0mnon_full_backward_hooks\u001b[0m \u001b[0;34m=\u001b[0m \u001b[0;34m[\u001b[0m\u001b[0;34m]\u001b[0m\u001b[0;34m,\u001b[0m \u001b[0;34m[\u001b[0m\u001b[0;34m]\u001b[0m\u001b[0;34m\u001b[0m\u001b[0;34m\u001b[0m\u001b[0m\n",
      "\u001b[0;32m/var/folders/1q/lwd2z3n96nz2tpc_3h028df40000gr/T/ipykernel_10479/472372186.py\u001b[0m in \u001b[0;36mforward\u001b[0;34m(self, data)\u001b[0m\n\u001b[1;32m     22\u001b[0m         \u001b[0mx\u001b[0m \u001b[0;34m=\u001b[0m \u001b[0mdata\u001b[0m\u001b[0;34m.\u001b[0m\u001b[0mx\u001b[0m\u001b[0;34m\u001b[0m\u001b[0;34m\u001b[0m\u001b[0m\n\u001b[1;32m     23\u001b[0m \u001b[0;34m\u001b[0m\u001b[0m\n\u001b[0;32m---> 24\u001b[0;31m         \u001b[0mx\u001b[0m \u001b[0;34m=\u001b[0m \u001b[0mself\u001b[0m\u001b[0;34m.\u001b[0m\u001b[0mconv1\u001b[0m\u001b[0;34m(\u001b[0m\u001b[0mx\u001b[0m\u001b[0;34m)\u001b[0m\u001b[0;34m\u001b[0m\u001b[0;34m\u001b[0m\u001b[0m\n\u001b[0m\u001b[1;32m     25\u001b[0m         \u001b[0mx\u001b[0m \u001b[0;34m=\u001b[0m \u001b[0mF\u001b[0m\u001b[0;34m.\u001b[0m\u001b[0mrelu\u001b[0m\u001b[0;34m(\u001b[0m\u001b[0mx\u001b[0m\u001b[0;34m)\u001b[0m\u001b[0;34m\u001b[0m\u001b[0;34m\u001b[0m\u001b[0m\n\u001b[1;32m     26\u001b[0m         \u001b[0mx\u001b[0m \u001b[0;34m=\u001b[0m \u001b[0mF\u001b[0m\u001b[0;34m.\u001b[0m\u001b[0mdropout\u001b[0m\u001b[0;34m(\u001b[0m\u001b[0mx\u001b[0m\u001b[0;34m,\u001b[0m \u001b[0mtraining\u001b[0m\u001b[0;34m=\u001b[0m\u001b[0mself\u001b[0m\u001b[0;34m.\u001b[0m\u001b[0mtraining\u001b[0m\u001b[0;34m)\u001b[0m\u001b[0;34m\u001b[0m\u001b[0;34m\u001b[0m\u001b[0m\n",
      "\u001b[0;32m/opt/miniconda3/envs/sheaf/lib/python3.9/site-packages/torch/nn/modules/module.py\u001b[0m in \u001b[0;36m_call_impl\u001b[0;34m(self, *input, **kwargs)\u001b[0m\n\u001b[1;32m   1049\u001b[0m         if not (self._backward_hooks or self._forward_hooks or self._forward_pre_hooks or _global_backward_hooks\n\u001b[1;32m   1050\u001b[0m                 or _global_forward_hooks or _global_forward_pre_hooks):\n\u001b[0;32m-> 1051\u001b[0;31m             \u001b[0;32mreturn\u001b[0m \u001b[0mforward_call\u001b[0m\u001b[0;34m(\u001b[0m\u001b[0;34m*\u001b[0m\u001b[0minput\u001b[0m\u001b[0;34m,\u001b[0m \u001b[0;34m**\u001b[0m\u001b[0mkwargs\u001b[0m\u001b[0;34m)\u001b[0m\u001b[0;34m\u001b[0m\u001b[0;34m\u001b[0m\u001b[0m\n\u001b[0m\u001b[1;32m   1052\u001b[0m         \u001b[0;31m# Do not call functions when jit is used\u001b[0m\u001b[0;34m\u001b[0m\u001b[0;34m\u001b[0m\u001b[0m\n\u001b[1;32m   1053\u001b[0m         \u001b[0mfull_backward_hooks\u001b[0m\u001b[0;34m,\u001b[0m \u001b[0mnon_full_backward_hooks\u001b[0m \u001b[0;34m=\u001b[0m \u001b[0;34m[\u001b[0m\u001b[0;34m]\u001b[0m\u001b[0;34m,\u001b[0m \u001b[0;34m[\u001b[0m\u001b[0;34m]\u001b[0m\u001b[0;34m\u001b[0m\u001b[0;34m\u001b[0m\u001b[0m\n",
      "\u001b[0;32m~/workspace/sheaf/notebooks/../models/convs.py\u001b[0m in \u001b[0;36mforward\u001b[0;34m(self, x)\u001b[0m\n\u001b[1;32m     20\u001b[0m     \u001b[0;32mdef\u001b[0m \u001b[0mforward\u001b[0m\u001b[0;34m(\u001b[0m\u001b[0mself\u001b[0m\u001b[0;34m,\u001b[0m \u001b[0mx\u001b[0m\u001b[0;34m)\u001b[0m\u001b[0;34m:\u001b[0m\u001b[0;34m\u001b[0m\u001b[0;34m\u001b[0m\u001b[0m\n\u001b[1;32m     21\u001b[0m         \u001b[0;32mif\u001b[0m \u001b[0mself\u001b[0m\u001b[0;34m.\u001b[0m\u001b[0muse_B\u001b[0m\u001b[0;34m:\u001b[0m\u001b[0;34m\u001b[0m\u001b[0;34m\u001b[0m\u001b[0m\n\u001b[0;32m---> 22\u001b[0;31m             \u001b[0mx\u001b[0m \u001b[0;34m=\u001b[0m \u001b[0mx\u001b[0m\u001b[0;34m.\u001b[0m\u001b[0mt\u001b[0m\u001b[0;34m(\u001b[0m\u001b[0;34m)\u001b[0m\u001b[0;34m.\u001b[0m\u001b[0mreshape\u001b[0m\u001b[0;34m(\u001b[0m\u001b[0mself\u001b[0m\u001b[0;34m.\u001b[0m\u001b[0mN\u001b[0m \u001b[0;34m*\u001b[0m \u001b[0mself\u001b[0m\u001b[0;34m.\u001b[0m\u001b[0min_feat\u001b[0m\u001b[0;34m,\u001b[0m \u001b[0mself\u001b[0m\u001b[0;34m.\u001b[0m\u001b[0mK\u001b[0m\u001b[0;34m)\u001b[0m\u001b[0;34m\u001b[0m\u001b[0;34m\u001b[0m\u001b[0m\n\u001b[0m\u001b[1;32m     23\u001b[0m             \u001b[0mx\u001b[0m \u001b[0;34m=\u001b[0m \u001b[0mself\u001b[0m\u001b[0;34m.\u001b[0m\u001b[0mB\u001b[0m\u001b[0;34m(\u001b[0m\u001b[0mx\u001b[0m\u001b[0;34m)\u001b[0m\u001b[0;34m.\u001b[0m\u001b[0mreshape\u001b[0m\u001b[0;34m(\u001b[0m\u001b[0mself\u001b[0m\u001b[0;34m.\u001b[0m\u001b[0min_feat\u001b[0m\u001b[0;34m,\u001b[0m \u001b[0mself\u001b[0m\u001b[0;34m.\u001b[0m\u001b[0mN\u001b[0m \u001b[0;34m*\u001b[0m \u001b[0mself\u001b[0m\u001b[0;34m.\u001b[0m\u001b[0mK\u001b[0m\u001b[0;34m)\u001b[0m\u001b[0;34m.\u001b[0m\u001b[0mt\u001b[0m\u001b[0;34m(\u001b[0m\u001b[0;34m)\u001b[0m\u001b[0;34m\u001b[0m\u001b[0;34m\u001b[0m\u001b[0m\n\u001b[1;32m     24\u001b[0m         \u001b[0;31m# x = self.A(x)\u001b[0m\u001b[0;34m\u001b[0m\u001b[0;34m\u001b[0m\u001b[0m\n",
      "\u001b[0;31mTypeError\u001b[0m: reshape(): argument 'shape' must be tuple of ints, but found element of type Tensor at pos 1"
     ]
    }
   ],
   "source": [
    "edge_index = remove_duplicate_edges(data.edge_index)\n",
    "model = RandomSheafCN(N, K, edge_index, dataset.num_node_features, dataset.num_classes).to(device)\n",
    "optimizer = torch.optim.Adam(model.parameters(), lr=0.01, weight_decay=5e-4)\n",
    "\n",
    "model.train()\n",
    "for epoch in range(200):\n",
    "    optimizer.zero_grad()\n",
    "    out = model(data)\n",
    "    loss = F.nll_loss(out[data.train_mask], data.y[data.train_mask])\n",
    "    loss.backward()\n",
    "    optimizer.step()\n",
    "    \n",
    "    if epoch % 10 == 0:\n",
    "        print(f\"Epoch: {epoch} | Loss: {loss.item()}\")"
   ]
  },
  {
   "cell_type": "code",
   "execution_count": 57,
   "id": "32172a2d-fb3e-48b1-a5b5-1200d9d21f63",
   "metadata": {},
   "outputs": [
    {
     "name": "stdout",
     "output_type": "stream",
     "text": [
      "Test Accuracy: 0.7560\n",
      "Train Accuracy: 1.0000\n"
     ]
    }
   ],
   "source": [
    "model.eval()\n",
    "pred = model(data).argmax(dim=1)\n",
    "correct = (pred[data.test_mask] == data.y[data.test_mask]).sum()\n",
    "acc = int(correct) / int(data.test_mask.sum())\n",
    "print('Test Accuracy: {:.4f}'.format(acc))\n",
    "correct = (pred[data.train_mask] == data.y[data.train_mask]).sum()\n",
    "acc = int(correct) / int(data.train_mask.sum())\n",
    "print('Train Accuracy: {:.4f}'.format(acc))"
   ]
  },
  {
   "cell_type": "markdown",
   "id": "05fa0fa0-6f09-4d8c-84b5-2ed8ab4a4ef2",
   "metadata": {},
   "source": [
    "## Oversmoothing"
   ]
  },
  {
   "cell_type": "markdown",
   "id": "135c2617-24f4-4726-b236-ba45ea1ed20a",
   "metadata": {},
   "source": [
    "Generate an Erdos Renyi Graph"
   ]
  },
  {
   "cell_type": "code",
   "execution_count": 563,
   "id": "e0de2846-e580-441c-9969-3be71278c820",
   "metadata": {},
   "outputs": [],
   "source": [
    "n=2\n",
    "p=1.0\n",
    "ER = nx.erdos_renyi_graph(n, p, seed=0)"
   ]
  },
  {
   "cell_type": "code",
   "execution_count": 572,
   "id": "88999a1d-6009-4fc0-a4f5-389e186daa22",
   "metadata": {},
   "outputs": [
    {
     "name": "stdout",
     "output_type": "stream",
     "text": [
      "torch.Size([6, 1])\n"
     ]
    }
   ],
   "source": [
    "N = n\n",
    "K = 3\n",
    "\n",
    "data = from_networkx(ER)\n",
    "data.x = torch.DoubleTensor(size=(N*K,1)).normal_(0.0, 1.0)\n",
    "print(data.x.size())"
   ]
  },
  {
   "cell_type": "markdown",
   "id": "18dfbd3f-d33e-400b-b4bc-3320063adf21",
   "metadata": {},
   "source": [
    "Generate a random sheaf"
   ]
  },
  {
   "cell_type": "code",
   "execution_count": 573,
   "id": "cd9f41a7-341d-4309-a904-de3b7b1e0af3",
   "metadata": {},
   "outputs": [
    {
     "name": "stdout",
     "output_type": "stream",
     "text": [
      "Removed 1 edges\n"
     ]
    }
   ],
   "source": [
    "import scipy \n",
    "from scipy.stats import ortho_group\n",
    "\n",
    "E = data.edge_index.size(1) // 2\n",
    "\n",
    "maps = torch.DoubleTensor(size=(E, 2, K, K)).uniform_(-3.0, 3.0)\n",
    "\n",
    "# maps=torch.empty(E, 1, K, K).to(dtype=torch.float64)\n",
    "# for i in range(E):\n",
    "    # maps[i, 0, :, :] = torch.tensor(ortho_group.rvs(K))\n",
    "#     maps[i, 1, :, :] = torch.tensor(ortho_group.rvs(K))\n",
    "# maps = torch.cat((maps, maps), dim=1)\n",
    "\n",
    "edge_index = remove_duplicate_edges(data.edge_index)\n",
    "P, L = build_sheaf_difussion_matrix(N, K, edge_index, maps, augmented=True, return_laplacian=True)"
   ]
  },
  {
   "cell_type": "code",
   "execution_count": 574,
   "id": "75987ee1-4f09-4e56-ba1d-605be0f78c6c",
   "metadata": {},
   "outputs": [
    {
     "name": "stdout",
     "output_type": "stream",
     "text": [
      "tensor([-5.6099e-16, -2.1652e-16,  3.8739e-16,  1.2457e+00,  1.6153e+00,\n",
      "         1.8735e+00])\n",
      "Gap 1.2457260018903262\n"
     ]
    }
   ],
   "source": [
    "Ld = torch.sparse_coo_tensor(L[0], L[1], (N*K, N*K)).to_dense()\n",
    "\n",
    "assert torch.max(torch.abs(Ld - Ld.t()) < 1e-10)\n",
    "                 \n",
    "eigenvals = torch.linalg.eigvalsh(Ld)\n",
    "assert torch.all(eigenvals > -1e-12)\n",
    "assert torch.all(torch.linalg.eigvalsh(Ld) < (2.0 + 1e-13))\n",
    "\n",
    "print(eigenvals[:10])\n",
    "\n",
    "gap = eigenvals[eigenvals > 1e-10][0].item()\n",
    "print(\"Gap\", gap)"
   ]
  },
  {
   "cell_type": "markdown",
   "id": "7efddf99-4d0c-4ef3-9f68-acb12e458c49",
   "metadata": {},
   "source": [
    "Write a model made especially for this experiment"
   ]
  },
  {
   "cell_type": "code",
   "execution_count": 555,
   "id": "326ff2e7-3a49-4e7a-803e-cd4348b0edf1",
   "metadata": {},
   "outputs": [],
   "source": [
    "class RandomDeepSheafCN(torch.nn.Module):\n",
    "    def __init__(self, P, N, K, edge_index, num_feat, num_classes=2, layers=20):\n",
    "        super().__init__()        \n",
    "        \n",
    "        self.N = N\n",
    "        self.layers = layers\n",
    "        self.convs = torch.nn.ModuleList()\n",
    "        \n",
    "        for i in range(layers):\n",
    "            conv = SheafConv(P, N, K, in_feat=1, out_feat=1)\n",
    "            torch.nn.init.uniform_(conv.B.weight, a=-1.0, b=1.0)\n",
    "            self.convs.append(conv)\n",
    "\n",
    "    def forward(self, data):\n",
    "        x = data.x\n",
    "        out = [x.detach().clone()]\n",
    "        \n",
    "        for i in range(self.layers):\n",
    "            x = self.convs[i](x)\n",
    "            # x = F.relu(x)\n",
    "            # x = F.leaky_relu(x, negative_slope=0.4)\n",
    "            # x = torch.tanh(x)\n",
    "            x = F.hardtanh(x)\n",
    "            # x = torch.sigmoid(x)\n",
    "            out.append(x.detach().clone())\n",
    "        \n",
    "        return out"
   ]
  },
  {
   "cell_type": "code",
   "execution_count": 556,
   "id": "23947c4c-6824-4966-a48b-f12c102f4f3c",
   "metadata": {},
   "outputs": [
    {
     "name": "stdout",
     "output_type": "stream",
     "text": [
      "Operator norms\n",
      "[1.5621342994713536, 2.056814233273969, 1.4534800394650471, 1.757426990413283, 1.5116272737211924, 1.8802861370301078, 1.440144394021379, 1.9139292005954416, 1.2873876649302363, 2.0390778883139307, 1.761151252411225, 2.0251625824673214]\n",
      "Max bound\n",
      "0.1806837978527781\n",
      "Min bound\n",
      "0.07078606325595849\n"
     ]
    }
   ],
   "source": [
    "layers = 12\n",
    "model = RandomDeepSheafCN(P, N, K, edge_index, 1, layers=layers).to(device)\n",
    "\n",
    "op_norms = []\n",
    "for i in range(layers):\n",
    "    W = model.convs[i].B.weight.data.detach().clone()\n",
    "    _, s, _ = torch.linalg.svd(W)\n",
    "    op_norms.append(s[0].item())\n",
    "    \n",
    "print(\"Operator norms\")\n",
    "print(op_norms)\n",
    "\n",
    "print(\"Max bound\")\n",
    "print(np.max(op_norms)**2 * (1 - gap)**2)\n",
    "print(\"Min bound\")\n",
    "print(np.min(op_norms)**2 * (1 - gap)**2)"
   ]
  },
  {
   "cell_type": "code",
   "execution_count": 557,
   "id": "4437dfaf-b65c-4976-ab75-db04edbf9739",
   "metadata": {},
   "outputs": [],
   "source": [
    "out = model(data)"
   ]
  },
  {
   "cell_type": "code",
   "execution_count": 558,
   "id": "36c49575-9a7e-4cef-83f9-938876b6cddc",
   "metadata": {},
   "outputs": [],
   "source": [
    "energies = []\n",
    "for i in range(len(out)):\n",
    "    energies.append(dirichlet_energy(L, out[i], size=N*K))\n",
    "\n",
    "energy_bounds = [energies[0]]\n",
    "# Compute the upper bound on the energies\n",
    "for i in range(len(out) - 1):\n",
    "    energy_bounds.append(energy_bounds[-1] * (1 - gap)**2 * op_norms[i]**2)"
   ]
  },
  {
   "cell_type": "code",
   "execution_count": 559,
   "id": "1f653632-61c9-4dc8-948e-ffeba665bfa3",
   "metadata": {},
   "outputs": [
    {
     "data": {
      "image/png": "[encoded data removed]",
      "text/plain": [
       "<Figure size 576x432 with 1 Axes>"
      ]
     },
     "metadata": {},
     "output_type": "display_data"
    },
    {
     "name": "stdout",
     "output_type": "stream",
     "text": [
      "[1560.114102196318, 14.067819970286177, 0.34270182498629936, 0.0038978733005591137, 6.745760403421821e-05, 3.086521658754636e-06, 8.40554335319438e-08, 1.887249098018587e-09, 1.0722867442572457e-10, 3.914021841455281e-12, 1.422793943231925e-13, 9.688875522114653e-15, 9.39161734830792e-16]\n"
     ]
    }
   ],
   "source": [
    "import matplotlib.pyplot as plt\n",
    "import seaborn as sns\n",
    "\n",
    "sns.set(font_scale=1.3)  \n",
    "\n",
    "plt.figure(figsize=(8, 6))\n",
    "plt.plot(np.arange(layers+1), energies, label='Actual')\n",
    "plt.plot(np.arange(layers+1), energy_bounds, label='Theorem')\n",
    "plt.yscale(\"log\")\n",
    "plt.legend()\n",
    "plt.title(fr\"O(n) bundle, $(1-\\lambda)^2=${(1-gap)**2:.2f}, norm$^2$={np.max(op_norms)**2:.2f}\")\n",
    "plt.xticks(np.arange(layers+1))\n",
    "plt.xlabel('Layer')\n",
    "plt.ylabel('Energy')\n",
    "plt.show()\n",
    "print(energies)"
   ]
  },
  {
   "cell_type": "code",
   "execution_count": null,
   "id": "bdb5c106-d112-4965-a207-6dca479321e3",
   "metadata": {},
   "outputs": [
    {
     "name": "stdout",
     "output_type": "stream",
     "text": [
      "[39.77319791068085, 3.8759898269762387, 0.9690051277016571, 0.5624032288510933, 0.43366914052910477, 0.4735118004766499, 0.4944678638174604, 0.3110128348690607, 0.38275324458262877, 0.41433380589868707, 0.4989268811911325, 0.7897006852634002, 0.9346779584193938]\n"
     ]
    }
   ],
   "source": [
    "norms = []\n",
    "for i in range(len(out)):\n",
    "    norms.append(torch.norm(out[i]).item())\n",
    "print(norms)"
   ]
  },
  {
   "cell_type": "code",
   "execution_count": null,
   "id": "1e1e3868-14d1-4d87-b5b7-6bdc159f4657",
   "metadata": {},
   "outputs": [
    {
     "data": {
      "image/png": "[encoded data removed]",
      "text/plain": [
       "<Figure size 576x432 with 1 Axes>"
      ]
     },
     "metadata": {},
     "output_type": "display_data"
    }
   ],
   "source": [
    "plt.figure(figsize=(8, 6))\n",
    "plt.plot(np.arange(layers+1), norms)\n",
    "plt.xticks(np.arange(layers+1))\n",
    "plt.title(fr\"O(n) bundle, $(1-\\lambda)^2=${(1-gap)**2:.2f}, norm$^2$={np.max(op_norms)**2:.2f}\")\n",
    "plt.yscale(\"log\")\n",
    "plt.xlabel('Layer')\n",
    "plt.ylabel('Norm')\n",
    "plt.show()"
   ]
  },
  {
   "cell_type": "code",
   "execution_count": null,
   "id": "2bebd3af-e75c-40a8-b028-3dc8b9fa5f8e",
   "metadata": {},
   "outputs": [],
   "source": []
  },
  {
   "cell_type": "code",
   "execution_count": null,
   "id": "e612ac53-1452-4b13-af11-e5e491d42050",
   "metadata": {},
   "outputs": [],
   "source": []
  }
 ],
 "metadata": {
  "kernelspec": {
   "display_name": "Python 3 (ipykernel)",
   "language": "python",
   "name": "python3"
  },
  "language_info": {
   "codemirror_mode": {
    "name": "ipython",
    "version": 3
   },
   "file_extension": ".py",
   "mimetype": "text/x-python",
   "name": "python",
   "nbconvert_exporter": "python",
   "pygments_lexer": "ipython3",
   "version": "3.9.7"
  }
 },
 "nbformat": 4,
 "nbformat_minor": 5
}
